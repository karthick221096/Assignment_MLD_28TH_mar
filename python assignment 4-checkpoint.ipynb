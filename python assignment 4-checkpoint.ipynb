{
 "cells": [
  {
   "cell_type": "markdown",
   "metadata": {
    "collapsed": true
   },
   "source": [
    "\"\"\"1.1 Write a Python Program(with class concepts) to find the area of the triangle using the below\n",
    "formula.\n",
    "area = (s*(s-a)*(s-b)*(s-c)) ** 0.5\n",
    "Function to take the length of the sides of triangle from user should be defined in the parent\n",
    "class and function to calculate the area should be defined in subclass.\n",
    "\"\"\""
   ]
  },
  {
   "cell_type": "code",
   "execution_count": 1,
   "metadata": {},
   "outputs": [
    {
     "data": {
      "text/plain": [
       "729.3308148570168"
      ]
     },
     "execution_count": 1,
     "metadata": {},
     "output_type": "execute_result"
    }
   ],
   "source": [
    "\"\"\"Function to take the length of the sides of triangle from user should be defined in the parent\n",
    "class\"\"\"\n",
    "\n",
    "class Side:\n",
    "    def __init__(self,a,b,c):\n",
    "        self.a = a\n",
    "        self.b = b\n",
    "        self.c = c\n",
    "\n",
    "#function to calculate the area should be defined in subclass \n",
    "\n",
    "class Area (Side):\n",
    "    def __init__(self,*args):\n",
    "        super(Area, self).__init__(*args)\n",
    "        \n",
    "    def triange_area (self):\n",
    "        s = ((self.a + self.b + self.c)/2)\n",
    "        area = (s*(s-self.a)*(s-self.b)*(s-self.c)) ** 0.5\n",
    "        return area\n",
    "        \n",
    "\n",
    "my_obj = Area(94,76,25)\n",
    "\n",
    "my_obj.triange_area()"
   ]
  },
  {
   "cell_type": "code",
   "execution_count": null,
   "metadata": {
    "collapsed": true
   },
   "outputs": [],
   "source": []
  },
  {
   "cell_type": "markdown",
   "metadata": {},
   "source": [
    " 1.2 Write a function filter_long_words() that takes a list of words and an integer n and returns\n",
    "the list of words that are longer than n"
   ]
  },
  {
   "cell_type": "code",
   "execution_count": 2,
   "metadata": {},
   "outputs": [
    {
     "data": {
      "text/plain": [
       "('list of words that are longer than 5 present inside the input list ',\n",
       " ['Python', 'program', 'function', 'concept'])"
      ]
     },
     "execution_count": 2,
     "metadata": {},
     "output_type": "execute_result"
    }
   ],
   "source": [
    "#function return a list of word that are longer than n\n",
    "def filter_long_words(lis_words, inp_integer):\n",
    "    ans_ls = []\n",
    "    for i in lis_words:\n",
    "        if len(i) > inp_integer:\n",
    "            ans_ls.append(i)\n",
    "    \n",
    "    return 'list of words that are longer than %d present inside the input list ' %(inp_integer), ans_ls\n",
    "        \n",
    "        \n",
    "        \n",
    "        \n",
    "           \n",
    "#our list of words to passed into function\n",
    "string = 'Write a Python program using function concept that maps list of words into a list'\n",
    "lis_words = string.split()\n",
    "inp_integer = 5\n",
    "\n",
    "\n",
    "\n",
    "#function call\n",
    "filter_long_words(lis_words,inp_integer)\n"
   ]
  },
  {
   "cell_type": "code",
   "execution_count": null,
   "metadata": {
    "collapsed": true
   },
   "outputs": [],
   "source": []
  },
  {
   "cell_type": "markdown",
   "metadata": {},
   "source": [
    "\"\"\"2.1 Write a Python program using function concept that maps list of words into a list of integers\n",
    "representing the lengths of the corresponding words.\n",
    "\n",
    "Hint: If a list [ ab,cde,erty] is passed on to the python function output should come as [2,3,4]\n",
    "Here 2,3 and 4 are the lengths of the words in the list.\"\"\""
   ]
  },
  {
   "cell_type": "code",
   "execution_count": 3,
   "metadata": {},
   "outputs": [
    {
     "name": "stdout",
     "output_type": "stream",
     "text": [
      "[5, 1, 6, 7, 5, 8, 7, 4, 4, 4, 2, 5, 4, 1, 4]\n"
     ]
    }
   ],
   "source": [
    "string = 'Write a Python program using function concept that maps list of words into a list'\n",
    "\n",
    "string = string.split()\n",
    "\n",
    "def str_int_convert(lis_inp):\n",
    "    ans_ls = []\n",
    "    for i in lis_inp:\n",
    "        ans_ls.append(len(i))\n",
    "    print(ans_ls)\n",
    "    \n",
    "str_int_convert(string)"
   ]
  },
  {
   "cell_type": "code",
   "execution_count": null,
   "metadata": {
    "collapsed": true
   },
   "outputs": [],
   "source": []
  },
  {
   "cell_type": "markdown",
   "metadata": {},
   "source": [
    "\"\"\"2.2 Write a Python function which takes a character (i.e. a string of length 1) and returns True if\n",
    "it is a vowel, False otherwise\"\"\""
   ]
  },
  {
   "cell_type": "code",
   "execution_count": null,
   "metadata": {
    "collapsed": true
   },
   "outputs": [],
   "source": [
    "def vowel_check(k):\n",
    "    k = k.lower()\n",
    "    l = ['a','e','i','o','u']\n",
    "    for i in l:\n",
    "        if i == k:\n",
    "            return True\n",
    "    else:\n",
    "        return False\n",
    "\n",
    "vowel_check(\"W\")"
   ]
  }
 ],
 "metadata": {
  "kernelspec": {
   "display_name": "Python 3",
   "language": "python",
   "name": "python3"
  },
  "language_info": {
   "codemirror_mode": {
    "name": "ipython",
    "version": 3
   },
   "file_extension": ".py",
   "mimetype": "text/x-python",
   "name": "python",
   "nbconvert_exporter": "python",
   "pygments_lexer": "ipython3",
   "version": "3.6.1"
  }
 },
 "nbformat": 4,
 "nbformat_minor": 2
}
